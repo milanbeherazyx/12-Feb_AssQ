{
 "cells": [
  {
   "cell_type": "code",
   "execution_count": 25,
   "id": "71c1a799-fd70-4b96-a1b1-21547e9f285e",
   "metadata": {},
   "outputs": [
    {
     "data": {
      "text/plain": [
       "'\\nQ1. What is an Exception in python? Write the difference between Exceptions and Syntax errors.\\n'"
      ]
     },
     "execution_count": 25,
     "metadata": {},
     "output_type": "execute_result"
    }
   ],
   "source": [
    "\"\"\"\n",
    "Q1. What is an Exception in python? Write the difference between Exceptions and Syntax errors.\n",
    "\"\"\""
   ]
  },
  {
   "cell_type": "code",
   "execution_count": 26,
   "id": "119a8e93-fd42-46a3-bdce-74628a7eedad",
   "metadata": {},
   "outputs": [
    {
     "data": {
      "text/plain": [
       "\"\\nAn exception in Python is an error that occurs while your program is running. \\nIt indicates that something unexpected or unusual happened that your code didn't know how to handle.\\n\\nSyntax errors, on the other hand, occur when you make a mistake in the way you write your code. \\nFor example, forgetting to put a colon at the end of an if statement or misspelling a variable name would result in a syntax error.\\n\\nThe main difference between exceptions and syntax errors is that exceptions occur during runtime, while syntax errors occur before the code is executed. \\nIn other words, you can't run your program if there is a syntax error in it, but you can still run it if there is an exception (although your program might not behave as expected).\\n\""
      ]
     },
     "execution_count": 26,
     "metadata": {},
     "output_type": "execute_result"
    }
   ],
   "source": [
    "\"\"\"\n",
    "An exception in Python is an error that occurs while your program is running. \n",
    "It indicates that something unexpected or unusual happened that your code didn't know how to handle.\n",
    "\n",
    "Syntax errors, on the other hand, occur when you make a mistake in the way you write your code. \n",
    "For example, forgetting to put a colon at the end of an if statement or misspelling a variable name would result in a syntax error.\n",
    "\n",
    "The main difference between exceptions and syntax errors is that exceptions occur during runtime, while syntax errors occur before the code is executed. \n",
    "In other words, you can't run your program if there is a syntax error in it, but you can still run it if there is an exception (although your program might not behave as expected).\n",
    "\"\"\""
   ]
  },
  {
   "cell_type": "code",
   "execution_count": 27,
   "id": "ce0e51a4-9654-456c-9f10-1a152d2bdf62",
   "metadata": {},
   "outputs": [
    {
     "data": {
      "text/plain": [
       "'\\nQ2. What happens when an exception is not handled? Explain with an example.\\n'"
      ]
     },
     "execution_count": 27,
     "metadata": {},
     "output_type": "execute_result"
    }
   ],
   "source": [
    "\"\"\"\n",
    "Q2. What happens when an exception is not handled? Explain with an example.\n",
    "\"\"\""
   ]
  },
  {
   "cell_type": "code",
   "execution_count": 28,
   "id": "df18027a-69e9-449a-b33e-5ba042b91ab6",
   "metadata": {},
   "outputs": [
    {
     "data": {
      "text/plain": [
       "'\\nWhen an exception is not handled, the program will terminate abruptly and display an error message known as a traceback. \\nThis traceback message will show you where the exception occurred in your code and what kind of exception it was.\\n'"
      ]
     },
     "execution_count": 28,
     "metadata": {},
     "output_type": "execute_result"
    }
   ],
   "source": [
    "\"\"\"\n",
    "When an exception is not handled, the program will terminate abruptly and display an error message known as a traceback. \n",
    "This traceback message will show you where the exception occurred in your code and what kind of exception it was.\n",
    "\"\"\""
   ]
  },
  {
   "cell_type": "code",
   "execution_count": 29,
   "id": "426987ce-d831-418a-9194-909770183e4d",
   "metadata": {},
   "outputs": [
    {
     "ename": "ZeroDivisionError",
     "evalue": "division by zero",
     "output_type": "error",
     "traceback": [
      "\u001b[0;31m---------------------------------------------------------------------------\u001b[0m",
      "\u001b[0;31mZeroDivisionError\u001b[0m                         Traceback (most recent call last)",
      "Cell \u001b[0;32mIn[29], line 3\u001b[0m\n\u001b[1;32m      1\u001b[0m a \u001b[38;5;241m=\u001b[39m \u001b[38;5;241m10\u001b[39m\n\u001b[1;32m      2\u001b[0m b \u001b[38;5;241m=\u001b[39m \u001b[38;5;241m0\u001b[39m\n\u001b[0;32m----> 3\u001b[0m result \u001b[38;5;241m=\u001b[39m \u001b[43ma\u001b[49m\u001b[38;5;241;43m/\u001b[39;49m\u001b[43mb\u001b[49m\n\u001b[1;32m      4\u001b[0m \u001b[38;5;28mprint\u001b[39m(result)\n",
      "\u001b[0;31mZeroDivisionError\u001b[0m: division by zero"
     ]
    }
   ],
   "source": [
    "a = 10\n",
    "b = 0\n",
    "result = a/b\n",
    "print(result)\n"
   ]
  },
  {
   "cell_type": "code",
   "execution_count": 30,
   "id": "50ccb7bf-1ac9-4f7c-ad3b-de4c05f7e3db",
   "metadata": {},
   "outputs": [],
   "source": [
    "import logging\n",
    "\n",
    "logging.basicConfig(filename='12 Feb_AssQ.log', level=logging.DEBUG, format='%(asctime)s %(levelname)s %(message)s')\n",
    "\n",
    "a = 10\n",
    "b = 0\n",
    "\n",
    "try:\n",
    "    result = a/b\n",
    "    logging.info(f\"The result is {result}\")\n",
    "except ZeroDivisionError as e:\n",
    "    logging.exception(e)\n",
    "    logging.error(\"Error: division by zero\")\n"
   ]
  },
  {
   "cell_type": "code",
   "execution_count": 31,
   "id": "9bf096a6-c2bc-4395-a50f-ba9ca74a88fa",
   "metadata": {},
   "outputs": [
    {
     "data": {
      "text/plain": [
       "'\\nQ3. Which Python statements are used to catch and handle exceptions? Explain with an example.\\n'"
      ]
     },
     "execution_count": 31,
     "metadata": {},
     "output_type": "execute_result"
    }
   ],
   "source": [
    "\"\"\"\n",
    "Q3. Which Python statements are used to catch and handle exceptions? Explain with an example.\n",
    "\"\"\""
   ]
  },
  {
   "cell_type": "code",
   "execution_count": 32,
   "id": "bd08f1a0-3157-41b3-be85-898c91acbb20",
   "metadata": {},
   "outputs": [
    {
     "data": {
      "text/plain": [
       "'\\nTo catch and handle exceptions in Python, you can use the try-except statement.\\n'"
      ]
     },
     "execution_count": 32,
     "metadata": {},
     "output_type": "execute_result"
    }
   ],
   "source": [
    "\"\"\"\n",
    "To catch and handle exceptions in Python, you can use the try-except statement.\n",
    "\"\"\""
   ]
  },
  {
   "cell_type": "code",
   "execution_count": 33,
   "id": "a0aecc92-5e16-4b78-9bd2-9e4d3d33a7f8",
   "metadata": {},
   "outputs": [],
   "source": [
    "a = 10\n",
    "b = 0\n",
    "\n",
    "try:\n",
    "    result = a/b\n",
    "    logging.info(f\"The result is {result}\")\n",
    "except ZeroDivisionError as e:\n",
    "    logging.exception(e)\n",
    "    logging.error(\"Error: division by zero\")\n"
   ]
  },
  {
   "cell_type": "code",
   "execution_count": 34,
   "id": "bd13b1b7-bf78-47ac-a001-fe63b290c794",
   "metadata": {},
   "outputs": [
    {
     "data": {
      "text/plain": [
       "'\\nQ4. Explain with an example:\\na. try and else\\nb. finally\\nc. raise\\n'"
      ]
     },
     "execution_count": 34,
     "metadata": {},
     "output_type": "execute_result"
    }
   ],
   "source": [
    "\"\"\"\n",
    "Q4. Explain with an example:\n",
    "a. try and else\n",
    "b. finally\n",
    "c. raise\n",
    "\"\"\""
   ]
  },
  {
   "cell_type": "code",
   "execution_count": 35,
   "id": "c5d7c365-330b-4198-8f16-16eb65a72d38",
   "metadata": {},
   "outputs": [],
   "source": [
    "# a. try and else"
   ]
  },
  {
   "cell_type": "code",
   "execution_count": 38,
   "id": "8967d8d5-9b40-4ea9-be42-ded6c52dc767",
   "metadata": {},
   "outputs": [
    {
     "name": "stdin",
     "output_type": "stream",
     "text": [
      "Enter a number:  14\n",
      "Enter another number:  55\n"
     ]
    }
   ],
   "source": [
    "try:\n",
    "    a = int(input(\"Enter a number: \"))\n",
    "    b = int(input(\"Enter another number: \"))\n",
    "    result = a/b\n",
    "except ValueError:\n",
    "    logging.exception(\"Error: invalid input\")\n",
    "    logging.error(\"Please enter valid numbers\")\n",
    "else:\n",
    "    logging.info(f\"The result is {result}\")\n"
   ]
  },
  {
   "cell_type": "code",
   "execution_count": 39,
   "id": "1f403869-fccb-46d1-9234-946db2056904",
   "metadata": {},
   "outputs": [],
   "source": [
    "# b. finally"
   ]
  },
  {
   "cell_type": "code",
   "execution_count": 40,
   "id": "06803bc7-983d-4b60-b73b-5cebb598f82d",
   "metadata": {},
   "outputs": [
    {
     "name": "stdin",
     "output_type": "stream",
     "text": [
      "Enter a number:  25\n",
      "Enter another number:  68\n"
     ]
    }
   ],
   "source": [
    "try:\n",
    "    a = int(input(\"Enter a number: \"))\n",
    "    b = int(input(\"Enter another number: \"))\n",
    "    result = a/b\n",
    "except ValueError:\n",
    "    logging.exception(\"Error: invalid input\")\n",
    "    logging.error(\"Please enter valid numbers\")\n",
    "else:\n",
    "    logging.info(f\"The result is {result}\")\n",
    "finally:\n",
    "    logging.info(\"The program has exited\")\n"
   ]
  },
  {
   "cell_type": "code",
   "execution_count": 41,
   "id": "569b7955-6706-42c0-8bfe-05ad7ba604c4",
   "metadata": {},
   "outputs": [],
   "source": [
    "# c. raise"
   ]
  },
  {
   "cell_type": "code",
   "execution_count": 42,
   "id": "ba3799cb-2aee-4a50-8a74-9a38f7660726",
   "metadata": {},
   "outputs": [],
   "source": [
    "def divide(a, b):\n",
    "    if b == 0:\n",
    "        logging.error(\"Error: division by zero\")\n",
    "        raise ZeroDivisionError(\"Cannot divide by zero\")\n",
    "    else:\n",
    "        return a/b\n",
    "\n",
    "try:\n",
    "    result = divide(10, 0)\n",
    "    logging.info(f\"The result is {result}\")\n",
    "except ZeroDivisionError as e:\n",
    "    logging.exception(e)\n"
   ]
  },
  {
   "cell_type": "code",
   "execution_count": 43,
   "id": "413834a8-b154-423c-953f-5f2acfd161de",
   "metadata": {},
   "outputs": [
    {
     "data": {
      "text/plain": [
       "'\\nQ5. What are Custom Exceptions in python? Why do we need Custom Exceptions? Explain with an example.\\n'"
      ]
     },
     "execution_count": 43,
     "metadata": {},
     "output_type": "execute_result"
    }
   ],
   "source": [
    "\"\"\"\n",
    "Q5. What are Custom Exceptions in python? Why do we need Custom Exceptions? Explain with an example.\n",
    "\"\"\""
   ]
  },
  {
   "cell_type": "code",
   "execution_count": 44,
   "id": "2ccbbed9-78a0-47bb-9d6f-45792a286dbb",
   "metadata": {},
   "outputs": [
    {
     "data": {
      "text/plain": [
       "'\\n\\nCustom Exceptions in Python are user-defined exceptions that extend the base Exception class. \\nThey allow developers to define specific types of exceptions that can be raised in their code\\nto indicate errors or unusual conditions that are specific to their application or use case.\\n\\nWe need Custom Exceptions in Python for several reasons:\\n\\n    1.Clarity: By defining a custom exception, developers can give more context-specific information about the error that occurred. \\n    This makes the code more readable and easier to debug.\\n\\n    2.Reusability: Custom exceptions can be reused throughout the codebase, making it easier to handle specific errors in different parts of the application.\\n\\n    3.Flexibility: Custom exceptions can be raised and handled just like built-in exceptions, \\n    allowing developers to create specific error-handling strategies for different exceptions.\\n    \\n'"
      ]
     },
     "execution_count": 44,
     "metadata": {},
     "output_type": "execute_result"
    }
   ],
   "source": [
    "\"\"\"\n",
    "\n",
    "Custom Exceptions in Python are user-defined exceptions that extend the base Exception class. \n",
    "They allow developers to define specific types of exceptions that can be raised in their code\n",
    "to indicate errors or unusual conditions that are specific to their application or use case.\n",
    "\n",
    "We need Custom Exceptions in Python for several reasons:\n",
    "\n",
    "    1.Clarity: By defining a custom exception, developers can give more context-specific information about the error that occurred. \n",
    "    This makes the code more readable and easier to debug.\n",
    "\n",
    "    2.Reusability: Custom exceptions can be reused throughout the codebase, making it easier to handle specific errors in different parts of the application.\n",
    "\n",
    "    3.Flexibility: Custom exceptions can be raised and handled just like built-in exceptions, \n",
    "    allowing developers to create specific error-handling strategies for different exceptions.\n",
    "    \n",
    "\"\"\""
   ]
  },
  {
   "cell_type": "code",
   "execution_count": 45,
   "id": "e91443bc-02cf-4b09-aea5-89f3e01e1ce8",
   "metadata": {},
   "outputs": [],
   "source": [
    "class NegativeNumberError(Exception):\n",
    "    pass\n",
    "\n",
    "def calculate_square_root(num):\n",
    "    if num < 0:\n",
    "        logging.error(\"Error: negative number\")\n",
    "        raise NegativeNumberError(\"Cannot calculate square root of a negative number\")\n",
    "    else:\n",
    "        return num ** 0.5\n",
    "\n",
    "try:\n",
    "    result = calculate_square_root(-5)\n",
    "    logging.info(f\"The result is {result}\")\n",
    "except NegativeNumberError as e:\n",
    "    logging.exception(e)\n"
   ]
  },
  {
   "cell_type": "code",
   "execution_count": 46,
   "id": "5a2ad4f5-b841-42bf-85c8-374faa9bdaa2",
   "metadata": {},
   "outputs": [
    {
     "data": {
      "text/plain": [
       "'\\nQ6. Create a custom exception class. Use this class to handle an exception.\\n'"
      ]
     },
     "execution_count": 46,
     "metadata": {},
     "output_type": "execute_result"
    }
   ],
   "source": [
    "\"\"\"\n",
    "Q6. Create a custom exception class. Use this class to handle an exception.\n",
    "\"\"\""
   ]
  },
  {
   "cell_type": "code",
   "execution_count": 47,
   "id": "bafc7297-c126-4ed4-b1a7-58cdfaf1deb7",
   "metadata": {},
   "outputs": [],
   "source": [
    "class CustomException(Exception):\n",
    "    pass\n",
    "\n",
    "try:\n",
    "    # Some code that may raise an exception\n",
    "    raise CustomException(\"An error occurred\")\n",
    "except CustomException as e:\n",
    "    logging.exception(e)\n"
   ]
  },
  {
   "cell_type": "code",
   "execution_count": null,
   "id": "8ef973ec-ac7f-47e4-847f-68efb16cd373",
   "metadata": {},
   "outputs": [],
   "source": []
  }
 ],
 "metadata": {
  "kernelspec": {
   "display_name": "Python 3 (ipykernel)",
   "language": "python",
   "name": "python3"
  },
  "language_info": {
   "codemirror_mode": {
    "name": "ipython",
    "version": 3
   },
   "file_extension": ".py",
   "mimetype": "text/x-python",
   "name": "python",
   "nbconvert_exporter": "python",
   "pygments_lexer": "ipython3",
   "version": "3.10.8"
  }
 },
 "nbformat": 4,
 "nbformat_minor": 5
}
